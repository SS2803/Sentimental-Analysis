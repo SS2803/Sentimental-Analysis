{
 "cells": [
  {
   "cell_type": "code",
   "execution_count": 1,
   "id": "74ac7533",
   "metadata": {},
   "outputs": [
    {
     "name": "stdout",
     "output_type": "stream",
     "text": [
      "Note: you may need to restart the kernel to use updated packages.Requirement already satisfied: nltk in c:\\users\\admin\\anaconda3\\lib\\site-packages (3.7)\n",
      "Requirement already satisfied: click in c:\\users\\admin\\anaconda3\\lib\\site-packages (from nltk) (8.0.4)\n",
      "Requirement already satisfied: joblib in c:\\users\\admin\\anaconda3\\lib\\site-packages (from nltk) (1.2.0)\n",
      "Requirement already satisfied: regex>=2021.8.3 in c:\\users\\admin\\anaconda3\\lib\\site-packages (from nltk) (2022.7.9)\n",
      "Requirement already satisfied: tqdm in c:\\users\\admin\\anaconda3\\lib\\site-packages (from nltk) (4.65.0)\n",
      "Requirement already satisfied: colorama in c:\\users\\admin\\anaconda3\\lib\\site-packages (from click->nltk) (0.4.6)\n",
      "\n"
     ]
    }
   ],
   "source": [
    "pip install nltk"
   ]
  },
  {
   "cell_type": "code",
   "execution_count": 2,
   "id": "1b023439",
   "metadata": {},
   "outputs": [
    {
     "data": {
      "text/plain": [
       "<bound method Downloader.download of <nltk.downloader.Downloader object at 0x000001B6F76F9ED0>>"
      ]
     },
     "execution_count": 2,
     "metadata": {},
     "output_type": "execute_result"
    }
   ],
   "source": [
    "import nltk\n",
    "nltk.download"
   ]
  },
  {
   "cell_type": "markdown",
   "id": "7b56d9c2",
   "metadata": {},
   "source": [
    "# 1. Loading Dataset"
   ]
  },
  {
   "cell_type": "code",
   "execution_count": 3,
   "id": "5c0d1cce",
   "metadata": {},
   "outputs": [],
   "source": [
    "import pandas as pd\n",
    "import numpy as np\n",
    "import re\n",
    "import seaborn as sns\n",
    "import matplotlib.pyplot as plt\n",
    "from sklearn.feature_extraction.text import TfidfVectorizer\n",
    "from sklearn.model_selection import train_test_split\n",
    "from sklearn.linear_model import LogisticRegressionCV\n",
    "from sklearn.linear_model import LogisticRegression\n",
    "from nltk.stem.snowball import SnowballStemmer\n",
    "import scipy.sparse"
   ]
  },
  {
   "cell_type": "code",
   "execution_count": 4,
   "id": "84bf4848",
   "metadata": {},
   "outputs": [
    {
     "data": {
      "text/html": [
       "<div>\n",
       "<style scoped>\n",
       "    .dataframe tbody tr th:only-of-type {\n",
       "        vertical-align: middle;\n",
       "    }\n",
       "\n",
       "    .dataframe tbody tr th {\n",
       "        vertical-align: top;\n",
       "    }\n",
       "\n",
       "    .dataframe thead th {\n",
       "        text-align: right;\n",
       "    }\n",
       "</style>\n",
       "<table border=\"1\" class=\"dataframe\">\n",
       "  <thead>\n",
       "    <tr style=\"text-align: right;\">\n",
       "      <th></th>\n",
       "      <th>Review</th>\n",
       "      <th>Liked</th>\n",
       "    </tr>\n",
       "  </thead>\n",
       "  <tbody>\n",
       "    <tr>\n",
       "      <th>0</th>\n",
       "      <td>Wow... Loved this place.</td>\n",
       "      <td>1</td>\n",
       "    </tr>\n",
       "    <tr>\n",
       "      <th>1</th>\n",
       "      <td>Crust is not good.</td>\n",
       "      <td>0</td>\n",
       "    </tr>\n",
       "    <tr>\n",
       "      <th>2</th>\n",
       "      <td>Not tasty and the texture was just nasty.</td>\n",
       "      <td>0</td>\n",
       "    </tr>\n",
       "    <tr>\n",
       "      <th>3</th>\n",
       "      <td>Stopped by during the late May bank holiday of...</td>\n",
       "      <td>1</td>\n",
       "    </tr>\n",
       "    <tr>\n",
       "      <th>4</th>\n",
       "      <td>The selection on the menu was great and so wer...</td>\n",
       "      <td>1</td>\n",
       "    </tr>\n",
       "    <tr>\n",
       "      <th>5</th>\n",
       "      <td>Now I am getting angry and I want my damn pho.</td>\n",
       "      <td>0</td>\n",
       "    </tr>\n",
       "    <tr>\n",
       "      <th>6</th>\n",
       "      <td>Honeslty it didn't taste THAT fresh.)</td>\n",
       "      <td>0</td>\n",
       "    </tr>\n",
       "    <tr>\n",
       "      <th>7</th>\n",
       "      <td>The potatoes were like rubber and you could te...</td>\n",
       "      <td>0</td>\n",
       "    </tr>\n",
       "    <tr>\n",
       "      <th>8</th>\n",
       "      <td>The fries were great too.</td>\n",
       "      <td>1</td>\n",
       "    </tr>\n",
       "    <tr>\n",
       "      <th>9</th>\n",
       "      <td>A great touch.</td>\n",
       "      <td>1</td>\n",
       "    </tr>\n",
       "  </tbody>\n",
       "</table>\n",
       "</div>"
      ],
      "text/plain": [
       "                                              Review  Liked\n",
       "0                           Wow... Loved this place.      1\n",
       "1                                 Crust is not good.      0\n",
       "2          Not tasty and the texture was just nasty.      0\n",
       "3  Stopped by during the late May bank holiday of...      1\n",
       "4  The selection on the menu was great and so wer...      1\n",
       "5     Now I am getting angry and I want my damn pho.      0\n",
       "6              Honeslty it didn't taste THAT fresh.)      0\n",
       "7  The potatoes were like rubber and you could te...      0\n",
       "8                          The fries were great too.      1\n",
       "9                                     A great touch.      1"
      ]
     },
     "execution_count": 4,
     "metadata": {},
     "output_type": "execute_result"
    }
   ],
   "source": [
    "data = pd.read_csv('Restaurant_Reviews.tsv', delimiter = '\\t')\n",
    "data.head(10)"
   ]
  },
  {
   "cell_type": "code",
   "execution_count": 5,
   "id": "fe9b9713",
   "metadata": {},
   "outputs": [
    {
     "name": "stdout",
     "output_type": "stream",
     "text": [
      "<class 'pandas.core.frame.DataFrame'>\n",
      "RangeIndex: 1000 entries, 0 to 999\n",
      "Data columns (total 2 columns):\n",
      " #   Column  Non-Null Count  Dtype \n",
      "---  ------  --------------  ----- \n",
      " 0   Review  1000 non-null   object\n",
      " 1   Liked   1000 non-null   int64 \n",
      "dtypes: int64(1), object(1)\n",
      "memory usage: 15.8+ KB\n"
     ]
    }
   ],
   "source": [
    "data.info()"
   ]
  },
  {
   "cell_type": "code",
   "execution_count": 6,
   "id": "39145b4c",
   "metadata": {},
   "outputs": [
    {
     "data": {
      "text/plain": [
       "<Axes: xlabel='Liked', ylabel='count'>"
      ]
     },
     "execution_count": 6,
     "metadata": {},
     "output_type": "execute_result"
    },
    {
     "data": {
      "image/png": "[encoded data removed]",
      "text/plain": [
       "<Figure size 640x480 with 1 Axes>"
      ]
     },
     "metadata": {},
     "output_type": "display_data"
    }
   ],
   "source": [
    "sns.countplot(x='Liked', data=data)"
   ]
  },
  {
   "cell_type": "markdown",
   "id": "8be43882",
   "metadata": {},
   "source": [
    "## 2. Preprocessing Data"
   ]
  },
  {
   "cell_type": "code",
   "execution_count": 7,
   "id": "38967024",
   "metadata": {},
   "outputs": [
    {
     "data": {
      "text/plain": [
       "\"That's right....the red velvet cake.....ohhh this stuff is so good.\""
      ]
     },
     "execution_count": 7,
     "metadata": {},
     "output_type": "execute_result"
    }
   ],
   "source": [
    "data['Review'][25] #before "
   ]
  },
  {
   "cell_type": "code",
   "execution_count": 8,
   "id": "6fd6ca50",
   "metadata": {},
   "outputs": [],
   "source": [
    "def preprocessor(text):\n",
    "    emoticons = re.findall('(?::|;|=)(?:-)?(?:\\)|\\(|D|P)(...)', text)\n",
    "    text = re.sub('[\\W]+', ' ', text.lower()) + ' '.join(emoticons).replace('-','')\n",
    "    return text"
   ]
  },
  {
   "cell_type": "code",
   "execution_count": 9,
   "id": "88caa5a6",
   "metadata": {},
   "outputs": [],
   "source": [
    "data['Review'] = data['Review'].apply(preprocessor)"
   ]
  },
  {
   "cell_type": "code",
   "execution_count": 10,
   "id": "49fd5913",
   "metadata": {},
   "outputs": [
    {
     "data": {
      "text/plain": [
       "'that s right the red velvet cake ohhh this stuff is so good '"
      ]
     },
     "execution_count": 10,
     "metadata": {},
     "output_type": "execute_result"
    }
   ],
   "source": [
    "data['Review'][25] #after"
   ]
  },
  {
   "cell_type": "markdown",
   "id": "0b175e7a",
   "metadata": {},
   "source": [
    "## 3. Tokenization"
   ]
  },
  {
   "cell_type": "code",
   "execution_count": 11,
   "id": "935464ed",
   "metadata": {},
   "outputs": [
    {
     "data": {
      "text/plain": [
       "'crust is not good '"
      ]
     },
     "execution_count": 11,
     "metadata": {},
     "output_type": "execute_result"
    }
   ],
   "source": [
    "data['Review'][1] #before tokenizing"
   ]
  },
  {
   "cell_type": "code",
   "execution_count": 12,
   "id": "72bd6214",
   "metadata": {},
   "outputs": [],
   "source": [
    "def tokenizer(text):\n",
    "    return text.split()"
   ]
  },
  {
   "cell_type": "code",
   "execution_count": 13,
   "id": "6f1c996b",
   "metadata": {},
   "outputs": [],
   "source": [
    "data['Review'] =data['Review'].apply(tokenizer)"
   ]
  },
  {
   "cell_type": "code",
   "execution_count": 14,
   "id": "40ab8d34",
   "metadata": {},
   "outputs": [
    {
     "data": {
      "text/plain": [
       "['crust', 'is', 'not', 'good']"
      ]
     },
     "execution_count": 14,
     "metadata": {},
     "output_type": "execute_result"
    }
   ],
   "source": [
    "data['Review'][1] #after tokenizing"
   ]
  },
  {
   "cell_type": "markdown",
   "id": "55a4c462",
   "metadata": {},
   "source": [
    "# 4. Stemming"
   ]
  },
  {
   "cell_type": "code",
   "execution_count": 15,
   "id": "8b367b1b",
   "metadata": {},
   "outputs": [
    {
     "data": {
      "text/plain": [
       "['wow', 'loved', 'this', 'place']"
      ]
     },
     "execution_count": 15,
     "metadata": {},
     "output_type": "execute_result"
    }
   ],
   "source": [
    "data['Review'][0] #before stemming"
   ]
  },
  {
   "cell_type": "code",
   "execution_count": 16,
   "id": "31621156",
   "metadata": {},
   "outputs": [],
   "source": [
    "snowball = SnowballStemmer(\"english\")"
   ]
  },
  {
   "cell_type": "code",
   "execution_count": 17,
   "id": "a6ca392c",
   "metadata": {},
   "outputs": [],
   "source": [
    "def stem_it(text):\n",
    "    return [snowball.stem(word) for word in text]\n",
    "\n",
    "data['Review'] = data['Review'].apply(stem_it)"
   ]
  },
  {
   "cell_type": "code",
   "execution_count": 18,
   "id": "33212d62",
   "metadata": {},
   "outputs": [
    {
     "data": {
      "text/plain": [
       "['wow', 'love', 'this', 'place']"
      ]
     },
     "execution_count": 18,
     "metadata": {},
     "output_type": "execute_result"
    }
   ],
   "source": [
    "data['Review'][0] #after stemming"
   ]
  },
  {
   "cell_type": "markdown",
   "id": "6d12ded5",
   "metadata": {},
   "source": [
    "#  Stopwords Removal"
   ]
  },
  {
   "cell_type": "code",
   "execution_count": 19,
   "id": "874f34a4",
   "metadata": {},
   "outputs": [],
   "source": [
    "stop_words = set(['a', 't', 'd', 'y', 'it', 'that'])\n",
    "def stop_it(text):\n",
    "    return [word for word in text if word not in stop_words]"
   ]
  },
  {
   "cell_type": "code",
   "execution_count": 20,
   "id": "071242e8",
   "metadata": {},
   "outputs": [
    {
     "data": {
      "text/html": [
       "<div>\n",
       "<style scoped>\n",
       "    .dataframe tbody tr th:only-of-type {\n",
       "        vertical-align: middle;\n",
       "    }\n",
       "\n",
       "    .dataframe tbody tr th {\n",
       "        vertical-align: top;\n",
       "    }\n",
       "\n",
       "    .dataframe thead th {\n",
       "        text-align: right;\n",
       "    }\n",
       "</style>\n",
       "<table border=\"1\" class=\"dataframe\">\n",
       "  <thead>\n",
       "    <tr style=\"text-align: right;\">\n",
       "      <th></th>\n",
       "      <th>Review</th>\n",
       "      <th>Liked</th>\n",
       "    </tr>\n",
       "  </thead>\n",
       "  <tbody>\n",
       "    <tr>\n",
       "      <th>0</th>\n",
       "      <td>[wow, love, this, place]</td>\n",
       "      <td>1</td>\n",
       "    </tr>\n",
       "    <tr>\n",
       "      <th>1</th>\n",
       "      <td>[crust, is, not, good]</td>\n",
       "      <td>0</td>\n",
       "    </tr>\n",
       "    <tr>\n",
       "      <th>2</th>\n",
       "      <td>[not, tasti, and, the, textur, was, just, nasti]</td>\n",
       "      <td>0</td>\n",
       "    </tr>\n",
       "    <tr>\n",
       "      <th>3</th>\n",
       "      <td>[stop, by, dure, the, late, may, bank, holiday...</td>\n",
       "      <td>1</td>\n",
       "    </tr>\n",
       "    <tr>\n",
       "      <th>4</th>\n",
       "      <td>[the, select, on, the, menu, was, great, and, ...</td>\n",
       "      <td>1</td>\n",
       "    </tr>\n",
       "  </tbody>\n",
       "</table>\n",
       "</div>"
      ],
      "text/plain": [
       "                                              Review  Liked\n",
       "0                           [wow, love, this, place]      1\n",
       "1                             [crust, is, not, good]      0\n",
       "2   [not, tasti, and, the, textur, was, just, nasti]      0\n",
       "3  [stop, by, dure, the, late, may, bank, holiday...      1\n",
       "4  [the, select, on, the, menu, was, great, and, ...      1"
      ]
     },
     "execution_count": 20,
     "metadata": {},
     "output_type": "execute_result"
    }
   ],
   "source": [
    "data['Review'] = data['Review'].apply(stop_it)\n",
    "data.head()"
   ]
  },
  {
   "cell_type": "code",
   "execution_count": 21,
   "id": "a22a80c5",
   "metadata": {},
   "outputs": [
    {
     "data": {
      "text/html": [
       "<div>\n",
       "<style scoped>\n",
       "    .dataframe tbody tr th:only-of-type {\n",
       "        vertical-align: middle;\n",
       "    }\n",
       "\n",
       "    .dataframe tbody tr th {\n",
       "        vertical-align: top;\n",
       "    }\n",
       "\n",
       "    .dataframe thead th {\n",
       "        text-align: right;\n",
       "    }\n",
       "</style>\n",
       "<table border=\"1\" class=\"dataframe\">\n",
       "  <thead>\n",
       "    <tr style=\"text-align: right;\">\n",
       "      <th></th>\n",
       "      <th>Review</th>\n",
       "      <th>Liked</th>\n",
       "    </tr>\n",
       "  </thead>\n",
       "  <tbody>\n",
       "    <tr>\n",
       "      <th>0</th>\n",
       "      <td>wow love this place</td>\n",
       "      <td>1</td>\n",
       "    </tr>\n",
       "    <tr>\n",
       "      <th>1</th>\n",
       "      <td>crust is not good</td>\n",
       "      <td>0</td>\n",
       "    </tr>\n",
       "    <tr>\n",
       "      <th>2</th>\n",
       "      <td>not tasti and the textur was just nasti</td>\n",
       "      <td>0</td>\n",
       "    </tr>\n",
       "    <tr>\n",
       "      <th>3</th>\n",
       "      <td>stop by dure the late may bank holiday off ric...</td>\n",
       "      <td>1</td>\n",
       "    </tr>\n",
       "    <tr>\n",
       "      <th>4</th>\n",
       "      <td>the select on the menu was great and so were t...</td>\n",
       "      <td>1</td>\n",
       "    </tr>\n",
       "  </tbody>\n",
       "</table>\n",
       "</div>"
      ],
      "text/plain": [
       "                                              Review  Liked\n",
       "0                                wow love this place      1\n",
       "1                                  crust is not good      0\n",
       "2            not tasti and the textur was just nasti      0\n",
       "3  stop by dure the late may bank holiday off ric...      1\n",
       "4  the select on the menu was great and so were t...      1"
      ]
     },
     "execution_count": 21,
     "metadata": {},
     "output_type": "execute_result"
    }
   ],
   "source": [
    "data['Review'] = data['Review'].apply(' '.join)\n",
    "data.head()"
   ]
  },
  {
   "cell_type": "markdown",
   "id": "a9352ae1",
   "metadata": {},
   "source": [
    "# Transform Text Data into TF-IDF Vectors"
   ]
  },
  {
   "cell_type": "code",
   "execution_count": 22,
   "id": "c68db9f9",
   "metadata": {},
   "outputs": [],
   "source": [
    "tfidf = TfidfVectorizer()\n",
    "x = tfidf.fit_transform(data['Review'])\n",
    "y = data['Liked'].values"
   ]
  },
  {
   "cell_type": "code",
   "execution_count": 23,
   "id": "458c09c5",
   "metadata": {},
   "outputs": [],
   "source": [
    "x_train, x_test, y_train, y_test = train_test_split(x, y, test_size=0.2, random_state=1, shuffle=False)"
   ]
  },
  {
   "cell_type": "markdown",
   "id": "dd88849b",
   "metadata": {},
   "source": [
    "# Classification using Logistic Regression"
   ]
  },
  {
   "cell_type": "code",
   "execution_count": 24,
   "id": "068fba8a",
   "metadata": {
    "scrolled": true
   },
   "outputs": [
    {
     "name": "stdout",
     "output_type": "stream",
     "text": [
      "Converting sparse matrix to dense format...\n",
      "Data type after conversion: <class 'numpy.ndarray'>\n",
      "Shape of x_train: (800, 1685)\n",
      "Checking for NaN or infinite values...\n",
      "Data type of x_train: float64\n",
      "Final check - Data type: float64 Shape: (800, 1685)\n",
      "Converted y_train to numpy array.\n",
      "Shape of y_train: (800,)\n",
      "Data type of y_train: int64\n",
      "Number of samples in x_train: 800\n",
      "Number of labels in y_train: 800\n",
      "Simple LogisticRegression model fitted successfully.\n",
      "LogisticRegressionCV model fitted successfully.\n",
      "Model trained and saved successfully.\n"
     ]
    }
   ],
   "source": [
    "# Check if x_train is sparse and convert to dense if necessary\n",
    "if scipy.sparse.issparse(x_train):\n",
    "    print(\"Converting sparse matrix to dense format...\")\n",
    "    x_train = x_train.toarray()\n",
    "else:\n",
    "    print(\"Data is already in dense format.\")\n",
    "\n",
    "# Verify the conversion\n",
    "print(\"Data type after conversion:\", type(x_train))\n",
    "print(\"Shape of x_train:\", x_train.shape)\n",
    "\n",
    "# Check for NaN or infinite values\n",
    "print(\"Checking for NaN or infinite values...\")\n",
    "if np.any(np.isnan(x_train)):\n",
    "    print(\"NaN values found in x_train\")\n",
    "    x_train = np.nan_to_num(x_train)  # Optionally, handle NaN values\n",
    "if np.any(np.isinf(x_train)):\n",
    "    print(\"Infinite values found in x_train\")\n",
    "    x_train = np.where(np.isinf(x_train), 0, x_train)  # Optionally, handle infinite values\n",
    "\n",
    "# Check the data type of x_train\n",
    "print(\"Data type of x_train:\", x_train.dtype)\n",
    "\n",
    "# Ensure data type is float\n",
    "x_train = x_train.astype(np.float64)\n",
    "\n",
    "# Check the final state of x_train\n",
    "print(\"Final check - Data type:\", x_train.dtype, \"Shape:\", x_train.shape)\n",
    "\n",
    "# Ensure y_train is a numpy array\n",
    "y_train = np.asarray(y_train)\n",
    "print(\"Converted y_train to numpy array.\")\n",
    "\n",
    "# Check y_train properties\n",
    "print(\"Shape of y_train:\", y_train.shape)\n",
    "print(\"Data type of y_train:\", y_train.dtype)\n",
    "print(\"Number of samples in x_train:\", x_train.shape[0])\n",
    "print(\"Number of labels in y_train:\", len(y_train))\n",
    "\n",
    "# Use a simple LogisticRegression model for debugging\n",
    "try:\n",
    "    simple_lr = LogisticRegression(max_iter=1000)\n",
    "    simple_lr.fit(x_train, y_train)\n",
    "    print(\"Simple LogisticRegression model fitted successfully.\")\n",
    "except Exception as e:\n",
    "    print(\"An error occurred during simple model fitting:\", e)\n",
    "\n",
    "# If simple model works, try LogisticRegressionCV\n",
    "try:\n",
    "    lr = LogisticRegressionCV()\n",
    "    lr.fit(x_train, y_train)\n",
    "    print(\"LogisticRegressionCV model fitted successfully.\")\n",
    "    print(\"Model trained and saved successfully.\")\n",
    "except Exception as e:\n",
    "    print(\"An error occurred during LogisticRegressionCV fitting:\", e)\n"
   ]
  },
  {
   "cell_type": "code",
   "execution_count": 25,
   "id": "9de7637e",
   "metadata": {},
   "outputs": [
    {
     "name": "stdout",
     "output_type": "stream",
     "text": [
      "Accuracy:  83.5\n"
     ]
    }
   ],
   "source": [
    "y_pred = lr.predict(x_test)\n",
    "from sklearn.metrics import accuracy_score\n",
    "acc_log = accuracy_score(y_pred, y_test)*100\n",
    "print(\"Accuracy: \", acc_log)"
   ]
  },
  {
   "cell_type": "code",
   "execution_count": 26,
   "id": "4019a337",
   "metadata": {},
   "outputs": [
    {
     "data": {
      "text/plain": [
       "['tfidf_vectorizer.joblib']"
      ]
     },
     "execution_count": 26,
     "metadata": {},
     "output_type": "execute_result"
    }
   ],
   "source": [
    "import joblib\n",
    "joblib.dump(lr, 'logistic_regression_cv_model.joblib')\n",
    "joblib.dump(tfidf, 'tfidf_vectorizer.joblib')"
   ]
  },
  {
   "cell_type": "code",
   "execution_count": null,
   "id": "31113be8",
   "metadata": {},
   "outputs": [],
   "source": []
  }
 ],
 "metadata": {
  "kernelspec": {
   "display_name": "Python 3 (ipykernel)",
   "language": "python",
   "name": "python3"
  },
  "language_info": {
   "codemirror_mode": {
    "name": "ipython",
    "version": 3
   },
   "file_extension": ".py",
   "mimetype": "text/x-python",
   "name": "python",
   "nbconvert_exporter": "python",
   "pygments_lexer": "ipython3",
   "version": "3.11.3"
  }
 },
 "nbformat": 4,
 "nbformat_minor": 5
}
